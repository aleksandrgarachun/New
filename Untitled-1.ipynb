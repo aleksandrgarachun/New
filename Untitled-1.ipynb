{
 "cells": [
  {
   "cell_type": "code",
   "execution_count": null,
   "metadata": {
    "vscode": {
     "languageId": "javascript"
    }
   },
   "outputs": [],
   "source": [
    "'use strict';\n",
    "\n",
    "function f1(a, b) {\n",
    "    console.log('f1(' + a +', ' + b +')');\n",
    "}\n",
    "\n",
    "f1(2, 3);\n",
    "f1.call(null, 2, 3);\n",
    "\n",
    "const arr = [2, 3];\n",
    "f1(...arr);\n",
    "f1.apply(null, arr);\n"
   ]
  }
 ],
 "metadata": {
  "language_info": {
   "name": "python"
  },
  "orig_nbformat": 4
 },
 "nbformat": 4,
 "nbformat_minor": 2
}
